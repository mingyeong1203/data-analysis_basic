{
 "cells": [
  {
   "cell_type": "code",
   "execution_count": 1,
   "id": "c0f77e95",
   "metadata": {},
   "outputs": [],
   "source": [
    "import pandas as pd\n",
    "import matplotlib.pyplot as plt"
   ]
  },
  {
   "cell_type": "code",
   "execution_count": 2,
   "id": "7bc95639",
   "metadata": {},
   "outputs": [],
   "source": [
    "pizza09 = pd.read_csv('./data/pizza_09.csv')"
   ]
  },
  {
   "cell_type": "code",
   "execution_count": 3,
   "id": "af573737",
   "metadata": {},
   "outputs": [
    {
     "data": {
      "text/html": [
       "<div>\n",
       "<style scoped>\n",
       "    .dataframe tbody tr th:only-of-type {\n",
       "        vertical-align: middle;\n",
       "    }\n",
       "\n",
       "    .dataframe tbody tr th {\n",
       "        vertical-align: top;\n",
       "    }\n",
       "\n",
       "    .dataframe thead th {\n",
       "        text-align: right;\n",
       "    }\n",
       "</style>\n",
       "<table border=\"1\" class=\"dataframe\">\n",
       "  <thead>\n",
       "    <tr style=\"text-align: right;\">\n",
       "      <th></th>\n",
       "      <th>일자</th>\n",
       "      <th>요일</th>\n",
       "      <th>성별</th>\n",
       "      <th>연령</th>\n",
       "      <th>발신지_시도</th>\n",
       "      <th>발신지_구</th>\n",
       "      <th>발신지_동</th>\n",
       "      <th>통화건수</th>\n",
       "    </tr>\n",
       "  </thead>\n",
       "  <tbody>\n",
       "    <tr>\n",
       "      <th>0</th>\n",
       "      <td>20190901</td>\n",
       "      <td>일</td>\n",
       "      <td>남</td>\n",
       "      <td>30대</td>\n",
       "      <td>서울특별시</td>\n",
       "      <td>강남구</td>\n",
       "      <td>삼성동</td>\n",
       "      <td>9</td>\n",
       "    </tr>\n",
       "    <tr>\n",
       "      <th>1</th>\n",
       "      <td>20190901</td>\n",
       "      <td>일</td>\n",
       "      <td>남</td>\n",
       "      <td>30대</td>\n",
       "      <td>서울특별시</td>\n",
       "      <td>강남구</td>\n",
       "      <td>논현동</td>\n",
       "      <td>10</td>\n",
       "    </tr>\n",
       "    <tr>\n",
       "      <th>2</th>\n",
       "      <td>20190901</td>\n",
       "      <td>일</td>\n",
       "      <td>남</td>\n",
       "      <td>30대</td>\n",
       "      <td>서울특별시</td>\n",
       "      <td>강남구</td>\n",
       "      <td>개포동</td>\n",
       "      <td>5</td>\n",
       "    </tr>\n",
       "    <tr>\n",
       "      <th>3</th>\n",
       "      <td>20190901</td>\n",
       "      <td>일</td>\n",
       "      <td>여</td>\n",
       "      <td>50대</td>\n",
       "      <td>서울특별시</td>\n",
       "      <td>강남구</td>\n",
       "      <td>삼성동</td>\n",
       "      <td>7</td>\n",
       "    </tr>\n",
       "    <tr>\n",
       "      <th>4</th>\n",
       "      <td>20190901</td>\n",
       "      <td>일</td>\n",
       "      <td>여</td>\n",
       "      <td>50대</td>\n",
       "      <td>서울특별시</td>\n",
       "      <td>강남구</td>\n",
       "      <td>도곡동</td>\n",
       "      <td>5</td>\n",
       "    </tr>\n",
       "    <tr>\n",
       "      <th>...</th>\n",
       "      <td>...</td>\n",
       "      <td>...</td>\n",
       "      <td>...</td>\n",
       "      <td>...</td>\n",
       "      <td>...</td>\n",
       "      <td>...</td>\n",
       "      <td>...</td>\n",
       "      <td>...</td>\n",
       "    </tr>\n",
       "    <tr>\n",
       "      <th>18220</th>\n",
       "      <td>20190930</td>\n",
       "      <td>월</td>\n",
       "      <td>남</td>\n",
       "      <td>20대</td>\n",
       "      <td>서울특별시</td>\n",
       "      <td>중랑구</td>\n",
       "      <td>묵동</td>\n",
       "      <td>5</td>\n",
       "    </tr>\n",
       "    <tr>\n",
       "      <th>18221</th>\n",
       "      <td>20190930</td>\n",
       "      <td>월</td>\n",
       "      <td>남</td>\n",
       "      <td>30대</td>\n",
       "      <td>서울특별시</td>\n",
       "      <td>중랑구</td>\n",
       "      <td>면목동</td>\n",
       "      <td>5</td>\n",
       "    </tr>\n",
       "    <tr>\n",
       "      <th>18222</th>\n",
       "      <td>20190930</td>\n",
       "      <td>월</td>\n",
       "      <td>여</td>\n",
       "      <td>20대</td>\n",
       "      <td>서울특별시</td>\n",
       "      <td>중랑구</td>\n",
       "      <td>면목동</td>\n",
       "      <td>11</td>\n",
       "    </tr>\n",
       "    <tr>\n",
       "      <th>18223</th>\n",
       "      <td>20190930</td>\n",
       "      <td>월</td>\n",
       "      <td>여</td>\n",
       "      <td>20대</td>\n",
       "      <td>서울특별시</td>\n",
       "      <td>중랑구</td>\n",
       "      <td>중화동</td>\n",
       "      <td>5</td>\n",
       "    </tr>\n",
       "    <tr>\n",
       "      <th>18224</th>\n",
       "      <td>20190930</td>\n",
       "      <td>월</td>\n",
       "      <td>여</td>\n",
       "      <td>50대</td>\n",
       "      <td>서울특별시</td>\n",
       "      <td>중랑구</td>\n",
       "      <td>망우동</td>\n",
       "      <td>5</td>\n",
       "    </tr>\n",
       "  </tbody>\n",
       "</table>\n",
       "<p>18225 rows × 8 columns</p>\n",
       "</div>"
      ],
      "text/plain": [
       "             일자 요일 성별   연령 발신지_시도 발신지_구 발신지_동  통화건수\n",
       "0      20190901  일  남  30대  서울특별시   강남구   삼성동     9\n",
       "1      20190901  일  남  30대  서울특별시   강남구   논현동    10\n",
       "2      20190901  일  남  30대  서울특별시   강남구   개포동     5\n",
       "3      20190901  일  여  50대  서울특별시   강남구   삼성동     7\n",
       "4      20190901  일  여  50대  서울특별시   강남구   도곡동     5\n",
       "...         ... .. ..  ...    ...   ...   ...   ...\n",
       "18220  20190930  월  남  20대  서울특별시   중랑구    묵동     5\n",
       "18221  20190930  월  남  30대  서울특별시   중랑구   면목동     5\n",
       "18222  20190930  월  여  20대  서울특별시   중랑구   면목동    11\n",
       "18223  20190930  월  여  20대  서울특별시   중랑구   중화동     5\n",
       "18224  20190930  월  여  50대  서울특별시   중랑구   망우동     5\n",
       "\n",
       "[18225 rows x 8 columns]"
      ]
     },
     "execution_count": 3,
     "metadata": {},
     "output_type": "execute_result"
    }
   ],
   "source": [
    "pizza09"
   ]
  },
  {
   "cell_type": "code",
   "execution_count": 5,
   "id": "924be841",
   "metadata": {},
   "outputs": [
    {
     "data": {
      "text/plain": [
       "요일\n",
       "금    17147\n",
       "목    16226\n",
       "수    17136\n",
       "월    16949\n",
       "일    30772\n",
       "토    24951\n",
       "화    14902\n",
       "Name: 통화건수, dtype: int64"
      ]
     },
     "execution_count": 5,
     "metadata": {},
     "output_type": "execute_result"
    }
   ],
   "source": [
    "sum_of_calls_by_week = pizza09.groupby('요일')['통화건수'].sum()\n",
    "#요일별 통화건수 합계\n",
    "\n",
    "sum_of_calls_by_week"
   ]
  },
  {
   "cell_type": "code",
   "execution_count": 10,
   "id": "9ab137ab",
   "metadata": {},
   "outputs": [
    {
     "data": {
      "image/png": "[encoded data removed]",
      "text/plain": [
       "<Figure size 576x360 with 1 Axes>"
      ]
     },
     "metadata": {
      "needs_background": "light"
     },
     "output_type": "display_data"
    }
   ],
   "source": [
    "plt.figure(figsize = (8,5))\n",
    "plt.bar(sum_of_calls_by_week.index, sum_of_calls_by_week)\n",
    "plt.title('요일에 따른 피자 주문량 합계')\n",
    "plt.show()"
   ]
  },
  {
   "cell_type": "code",
   "execution_count": 8,
   "id": "78cd4fb5",
   "metadata": {},
   "outputs": [],
   "source": [
    "plt.rcParams['font.family'] = 'Malgun Gothic' #폰트 변경"
   ]
  },
  {
   "cell_type": "code",
   "execution_count": 9,
   "id": "f2d7ae65",
   "metadata": {},
   "outputs": [
    {
     "data": {
      "text/plain": [
       "['Malgun Gothic']"
      ]
     },
     "execution_count": 9,
     "metadata": {},
     "output_type": "execute_result"
    }
   ],
   "source": [
    "plt.rcParams['font.family']"
   ]
  },
  {
   "cell_type": "code",
   "execution_count": 11,
   "id": "3d080384",
   "metadata": {},
   "outputs": [
    {
     "data": {
      "text/plain": [
       "요일\n",
       "화    14902\n",
       "목    16226\n",
       "월    16949\n",
       "수    17136\n",
       "금    17147\n",
       "토    24951\n",
       "일    30772\n",
       "Name: 통화건수, dtype: int64"
      ]
     },
     "execution_count": 11,
     "metadata": {},
     "output_type": "execute_result"
    }
   ],
   "source": [
    "sorted_sum_of_calls_by_week = sum_of_calls_by_week.sort_values(ascending = True)\n",
    "sorted_sum_of_calls_by_week"
   ]
  },
  {
   "cell_type": "code",
   "execution_count": 21,
   "id": "4b49787f",
   "metadata": {},
   "outputs": [
    {
     "data": {
      "image/png": "[encoded data removed]",
      "text/plain": [
       "<Figure size 576x360 with 1 Axes>"
      ]
     },
     "metadata": {
      "needs_background": "light"
     },
     "output_type": "display_data"
    }
   ],
   "source": [
    "plt.figure(figsize = (8,5))\n",
    "plt.bar(sorted_sum_of_calls_by_week.index, sorted_sum_of_calls_by_week)\n",
    "plt.xlabel('요일')\n",
    "plt.title('요일에 따른 피자 주문량 합계')\n",
    "plt.show()"
   ]
  },
  {
   "cell_type": "code",
   "execution_count": 16,
   "id": "cb37afa0",
   "metadata": {},
   "outputs": [
    {
     "data": {
      "text/plain": [
       "발신지_구\n",
       "강남구      8961\n",
       "강동구      7025\n",
       "강북구      8757\n",
       "강서구     12042\n",
       "관악구     10218\n",
       "광진구      1230\n",
       "구로구      6137\n",
       "금천구      2461\n",
       "노원구      7408\n",
       "도봉구       965\n",
       "동대문구     5761\n",
       "동작구      1665\n",
       "마포구      4841\n",
       "서대문구     7819\n",
       "서초구      6536\n",
       "성동구      7959\n",
       "성북구      3817\n",
       "송파구      6042\n",
       "양천구      1695\n",
       "영등포구     4914\n",
       "용산구      3318\n",
       "은평구      4496\n",
       "종로구      2345\n",
       "중구       7349\n",
       "중랑구      4322\n",
       "Name: 통화건수, dtype: int64"
      ]
     },
     "execution_count": 16,
     "metadata": {},
     "output_type": "execute_result"
    }
   ],
   "source": [
    "sum_of_calls_by_city = pizza09.groupby('발신지_구')['통화건수'].sum()\n",
    "#시군구별 통화건수 합계\n",
    "\n",
    "sum_of_calls_by_city"
   ]
  },
  {
   "cell_type": "code",
   "execution_count": 17,
   "id": "4ebaf3d7",
   "metadata": {},
   "outputs": [
    {
     "data": {
      "text/plain": [
       "발신지_구\n",
       "도봉구       965\n",
       "광진구      1230\n",
       "동작구      1665\n",
       "양천구      1695\n",
       "종로구      2345\n",
       "금천구      2461\n",
       "용산구      3318\n",
       "성북구      3817\n",
       "중랑구      4322\n",
       "은평구      4496\n",
       "마포구      4841\n",
       "영등포구     4914\n",
       "동대문구     5761\n",
       "송파구      6042\n",
       "구로구      6137\n",
       "서초구      6536\n",
       "강동구      7025\n",
       "중구       7349\n",
       "노원구      7408\n",
       "서대문구     7819\n",
       "성동구      7959\n",
       "강북구      8757\n",
       "강남구      8961\n",
       "관악구     10218\n",
       "강서구     12042\n",
       "Name: 통화건수, dtype: int64"
      ]
     },
     "execution_count": 17,
     "metadata": {},
     "output_type": "execute_result"
    }
   ],
   "source": [
    "sorted_sum_of_calls_by_city = sum_of_calls_by_city.sort_values(ascending = True)\n",
    "sorted_sum_of_calls_by_city"
   ]
  },
  {
   "cell_type": "code",
   "execution_count": 36,
   "id": "f0c44e22",
   "metadata": {},
   "outputs": [
    {
     "data": {
      "image/png": "[encoded data removed]",
      "text/plain": [
       "<Figure size 720x360 with 1 Axes>"
      ]
     },
     "metadata": {
      "needs_background": "light"
     },
     "output_type": "display_data"
    }
   ],
   "source": [
    "plt.figure(figsize = (10,5))\n",
    "\n",
    "plt.bar(sorted_sum_of_calls_by_city.index, sorted_sum_of_calls_by_city)\n",
    "plt.xlabel('발신지_구')\n",
    "plt.xticks(rotation = 45)\n",
    "plt.title('발신지_구에 따른 피자 주문량 합계')\n",
    "plt.show()"
   ]
  },
  {
   "cell_type": "code",
   "execution_count": 31,
   "id": "71a0503e",
   "metadata": {},
   "outputs": [],
   "source": [
    "chicken09 = pd.read_csv('./data/chicken_09.csv')"
   ]
  },
  {
   "cell_type": "code",
   "execution_count": 32,
   "id": "c467a37a",
   "metadata": {},
   "outputs": [
    {
     "data": {
      "text/plain": [
       "요일\n",
       "화    32462\n",
       "목    33638\n",
       "월    34618\n",
       "수    35501\n",
       "금    42603\n",
       "토    52460\n",
       "일    58074\n",
       "Name: 통화건수, dtype: int64"
      ]
     },
     "execution_count": 32,
     "metadata": {},
     "output_type": "execute_result"
    }
   ],
   "source": [
    "chicken_sum_of_calls_by_week = chicken09.groupby('요일')['통화건수'].sum()\n",
    "#치킨 요일별 통화건수 합계\n",
    "\n",
    "sorted_chicken_sum_of_calls_by_week = chicken_sum_of_calls_by_week.sort_values(ascending = True) \n",
    "#오름차순 정렬\n",
    "\n",
    "sorted_chicken_sum_of_calls_by_week"
   ]
  },
  {
   "cell_type": "code",
   "execution_count": 33,
   "id": "b772a9a9",
   "metadata": {},
   "outputs": [
    {
     "data": {
      "image/png": "[encoded data removed]",
      "text/plain": [
       "<Figure size 576x360 with 1 Axes>"
      ]
     },
     "metadata": {
      "needs_background": "light"
     },
     "output_type": "display_data"
    }
   ],
   "source": [
    "plt.figure(figsize = (8,5))\n",
    "plt.bar(sorted_chicken_sum_of_calls_by_week.index, sorted_chicken_sum_of_calls_by_week)\n",
    "plt.title('요일에 따른 치킨 주문량 합계')\n",
    "plt.show()"
   ]
  },
  {
   "cell_type": "code",
   "execution_count": 34,
   "id": "2bd523d2",
   "metadata": {},
   "outputs": [
    {
     "data": {
      "image/png": "[encoded data removed]",
      "text/plain": [
       "<Figure size 576x360 with 1 Axes>"
      ]
     },
     "metadata": {
      "needs_background": "light"
     },
     "output_type": "display_data"
    }
   ],
   "source": [
    "plt.figure(figsize = (8,5))\n",
    "plt.bar(sorted_chicken_sum_of_calls_by_week.index, sorted_chicken_sum_of_calls_by_week)\n",
    "plt.bar(sorted_sum_of_calls_by_week.index, sorted_sum_of_calls_by_week)\n",
    "plt.title('요일에 따른 치킨과 피자 주문량 합계')\n",
    "plt.show()"
   ]
  },
  {
   "cell_type": "code",
   "execution_count": 37,
   "id": "475daa78",
   "metadata": {},
   "outputs": [
    {
     "data": {
      "image/png": "[encoded data removed]",
      "text/plain": [
       "<Figure size 576x360 with 1 Axes>"
      ]
     },
     "metadata": {
      "needs_background": "light"
     },
     "output_type": "display_data"
    },
    {
     "data": {
      "image/png": "[encoded data removed]",
      "text/plain": [
       "<Figure size 576x360 with 1 Axes>"
      ]
     },
     "metadata": {
      "needs_background": "light"
     },
     "output_type": "display_data"
    },
    {
     "data": {
      "image/png": "[encoded data removed]",
      "text/plain": [
       "<Figure size 720x360 with 1 Axes>"
      ]
     },
     "metadata": {
      "needs_background": "light"
     },
     "output_type": "display_data"
    },
    {
     "data": {
      "image/png": "[encoded data removed]",
      "text/plain": [
       "<Figure size 576x360 with 1 Axes>"
      ]
     },
     "metadata": {
      "needs_background": "light"
     },
     "output_type": "display_data"
    },
    {
     "data": {
      "image/png": "[encoded data removed]",
      "text/plain": [
       "<Figure size 576x360 with 1 Axes>"
      ]
     },
     "metadata": {
      "needs_background": "light"
     },
     "output_type": "display_data"
    }
   ],
   "source": [
    "import pandas as pd\n",
    "import matplotlib.pyplot as plt\n",
    "\n",
    "pizza09 = pd.read_csv('./data/pizza_09.csv')\n",
    "pizza09\n",
    "\n",
    "sum_of_calls_by_week = pizza09.groupby('요일')['통화건수'].sum()\n",
    "#요일별 통화건수 합계\n",
    "\n",
    "sum_of_calls_by_week\n",
    "\n",
    "plt.figure(figsize = (8,5))\n",
    "plt.bar(sum_of_calls_by_week.index, sum_of_calls_by_week)\n",
    "plt.title('요일에 따른 피자 주문량 합계')\n",
    "plt.show()\n",
    "\n",
    "plt.rcParams['font.family'] = 'Malgun Gothic' #폰트 변경\n",
    "plt.rcParams['font.family']\n",
    "\n",
    "plt.figure(figsize = (8,5))\n",
    "plt.bar(sorted_sum_of_calls_by_week.index, sorted_sum_of_calls_by_week)\n",
    "plt.xlabel('요일')\n",
    "plt.title('요일에 따른 피자 주문량 합계')\n",
    "plt.show()\n",
    "\n",
    "sum_of_calls_by_city = pizza09.groupby('발신지_구')['통화건수'].sum()\n",
    "#시군구별 통화건수 합계\n",
    "\n",
    "sum_of_calls_by_city\n",
    "\n",
    "sorted_sum_of_calls_by_city = sum_of_calls_by_city.sort_values(ascending = True)\n",
    "sorted_sum_of_calls_by_city\n",
    "\n",
    "plt.figure(figsize = (10,5))\n",
    "\n",
    "plt.bar(sorted_sum_of_calls_by_city.index, sorted_sum_of_calls_by_city)\n",
    "plt.xlabel('발신지_구')\n",
    "plt.xticks(rotation = 45)\n",
    "plt.title('발신지_구에 따른 피자 주문량 합계')\n",
    "plt.show()\n",
    "\n",
    "chicken09 = pd.read_csv('./data/chicken_09.csv')\n",
    "\n",
    "chicken_sum_of_calls_by_week = chicken09.groupby('요일')['통화건수'].sum()\n",
    "#치킨 요일별 통화건수 합계\n",
    "\n",
    "sorted_chicken_sum_of_calls_by_week = chicken_sum_of_calls_by_week.sort_values(ascending = True) \n",
    "#오름차순 정렬\n",
    "\n",
    "sorted_chicken_sum_of_calls_by_week\n",
    "\n",
    "plt.figure(figsize = (8,5))\n",
    "plt.bar(sorted_chicken_sum_of_calls_by_week.index, sorted_chicken_sum_of_calls_by_week)\n",
    "plt.title('요일에 따른 치킨 주문량 합계')\n",
    "plt.show()\n",
    "\n",
    "plt.figure(figsize = (8,5))\n",
    "plt.bar(sorted_chicken_sum_of_calls_by_week.index, sorted_chicken_sum_of_calls_by_week)\n",
    "plt.bar(sorted_sum_of_calls_by_week.index, sorted_sum_of_calls_by_week)\n",
    "plt.title('요일에 따른 치킨과 피자 주문량 합계')\n",
    "plt.show()"
   ]
  },
  {
   "cell_type": "code",
   "execution_count": null,
   "id": "79591d84",
   "metadata": {},
   "outputs": [],
   "source": []
  }
 ],
 "metadata": {
  "kernelspec": {
   "display_name": "Python 3",
   "language": "python",
   "name": "python3"
  },
  "language_info": {
   "codemirror_mode": {
    "name": "ipython",
    "version": 3
   },
   "file_extension": ".py",
   "mimetype": "text/x-python",
   "name": "python",
   "nbconvert_exporter": "python",
   "pygments_lexer": "ipython3",
   "version": "3.8.8"
  }
 },
 "nbformat": 4,
 "nbformat_minor": 5
}
