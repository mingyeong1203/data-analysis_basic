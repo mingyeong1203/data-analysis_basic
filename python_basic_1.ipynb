{
 "cells": [
  {
   "cell_type": "code",
   "execution_count": 1,
   "id": "f418d127",
   "metadata": {},
   "outputs": [
    {
     "name": "stdout",
     "output_type": "stream",
     "text": [
      "3\n"
     ]
    }
   ],
   "source": [
    "a = 3\n",
    "print(a) #notebook에서는 print 필요 없음 (장점)"
   ]
  },
  {
   "cell_type": "code",
   "execution_count": 2,
   "id": "eb8b18bf",
   "metadata": {},
   "outputs": [
    {
     "data": {
      "text/plain": [
       "3"
      ]
     },
     "execution_count": 2,
     "metadata": {},
     "output_type": "execute_result"
    }
   ],
   "source": [
    "a"
   ]
  },
  {
   "cell_type": "code",
   "execution_count": 3,
   "id": "aebdb397",
   "metadata": {},
   "outputs": [
    {
     "data": {
      "text/plain": [
       "3"
      ]
     },
     "execution_count": 3,
     "metadata": {},
     "output_type": "execute_result"
    }
   ],
   "source": [
    "b = a\n",
    "b"
   ]
  },
  {
   "cell_type": "code",
   "execution_count": 13,
   "id": "4a9559c6",
   "metadata": {
    "scrolled": true
   },
   "outputs": [
    {
     "data": {
      "text/plain": [
       "9"
      ]
     },
     "execution_count": 13,
     "metadata": {},
     "output_type": "execute_result"
    }
   ],
   "source": [
    "a = a + 1\n",
    "a"
   ]
  },
  {
   "cell_type": "code",
   "execution_count": 12,
   "id": "d0d7c53d",
   "metadata": {},
   "outputs": [
    {
     "data": {
      "text/plain": [
       "11"
      ]
     },
     "execution_count": 12,
     "metadata": {},
     "output_type": "execute_result"
    }
   ],
   "source": [
    "num1 = a + b\n",
    "num1"
   ]
  },
  {
   "cell_type": "code",
   "execution_count": 15,
   "id": "b5c0a55f",
   "metadata": {},
   "outputs": [
    {
     "data": {
      "text/plain": [
       "12"
      ]
     },
     "execution_count": 15,
     "metadata": {},
     "output_type": "execute_result"
    }
   ],
   "source": [
    "num = 12\n",
    "\n",
    "num"
   ]
  },
  {
   "cell_type": "code",
   "execution_count": 17,
   "id": "f7c19224",
   "metadata": {},
   "outputs": [
    {
     "data": {
      "text/plain": [
       "'mingyeong'"
      ]
     },
     "execution_count": 17,
     "metadata": {},
     "output_type": "execute_result"
    }
   ],
   "source": [
    "name = 'mingyeong' #문자열\n",
    "name"
   ]
  },
  {
   "cell_type": "code",
   "execution_count": 18,
   "id": "a9a3c7dc",
   "metadata": {},
   "outputs": [
    {
     "data": {
      "text/plain": [
       "True"
      ]
     },
     "execution_count": 18,
     "metadata": {},
     "output_type": "execute_result"
    }
   ],
   "source": [
    "number_status = True\n",
    "number_status"
   ]
  },
  {
   "cell_type": "code",
   "execution_count": 19,
   "id": "583a5ac2",
   "metadata": {},
   "outputs": [
    {
     "data": {
      "text/plain": [
       "['김민경']"
      ]
     },
     "execution_count": 19,
     "metadata": {},
     "output_type": "execute_result"
    }
   ],
   "source": [
    "waiting_list = []\n",
    "waiting_list.append('김민경')\n",
    "waiting_list"
   ]
  },
  {
   "cell_type": "code",
   "execution_count": 20,
   "id": "894eccf9",
   "metadata": {},
   "outputs": [
    {
     "data": {
      "text/plain": [
       "['김민경', '이범규']"
      ]
     },
     "execution_count": 20,
     "metadata": {},
     "output_type": "execute_result"
    }
   ],
   "source": [
    "waiting_list.append('이범규')\n",
    "waiting_list"
   ]
  },
  {
   "cell_type": "code",
   "execution_count": 21,
   "id": "51ca5efa",
   "metadata": {},
   "outputs": [
    {
     "data": {
      "text/plain": [
       "['김민경', '이범규', ['고양이', '강아지']]"
      ]
     },
     "execution_count": 21,
     "metadata": {},
     "output_type": "execute_result"
    }
   ],
   "source": [
    "waiting_list.append(['고양이', '강아지'])\n",
    "waiting_list"
   ]
  },
  {
   "cell_type": "code",
   "execution_count": 22,
   "id": "8a6bacd8",
   "metadata": {},
   "outputs": [
    {
     "data": {
      "text/plain": [
       "'김민경'"
      ]
     },
     "execution_count": 22,
     "metadata": {},
     "output_type": "execute_result"
    }
   ],
   "source": [
    "waiting_list[0]"
   ]
  },
  {
   "cell_type": "code",
   "execution_count": 23,
   "id": "81dc0d10",
   "metadata": {},
   "outputs": [
    {
     "data": {
      "text/plain": [
       "'강아지'"
      ]
     },
     "execution_count": 23,
     "metadata": {},
     "output_type": "execute_result"
    }
   ],
   "source": [
    "waiting_list[2][1]"
   ]
  },
  {
   "cell_type": "code",
   "execution_count": 25,
   "id": "3a483edb",
   "metadata": {},
   "outputs": [
    {
     "data": {
      "text/plain": [
       "{'apple': '사과', 'pear': '배'}"
      ]
     },
     "execution_count": 25,
     "metadata": {},
     "output_type": "execute_result"
    }
   ],
   "source": [
    "eng_kor_dict = {}\n",
    "\n",
    "eng_kor_dict = {'apple' : '사과', 'pear' : '배'}\n",
    "eng_kor_dict"
   ]
  },
  {
   "cell_type": "code",
   "execution_count": 26,
   "id": "fbfa4ff4",
   "metadata": {},
   "outputs": [
    {
     "data": {
      "text/plain": [
       "{'apple': '사과', 'pear': '배', 'banana': '바나나'}"
      ]
     },
     "execution_count": 26,
     "metadata": {},
     "output_type": "execute_result"
    }
   ],
   "source": [
    "eng_kor_dict['banana'] = '바나나'\n",
    "eng_kor_dict"
   ]
  },
  {
   "cell_type": "code",
   "execution_count": 27,
   "id": "fc2f3d9f",
   "metadata": {},
   "outputs": [
    {
     "data": {
      "text/plain": [
       "'사과'"
      ]
     },
     "execution_count": 27,
     "metadata": {},
     "output_type": "execute_result"
    }
   ],
   "source": [
    "eng_kor_dict['apple']"
   ]
  },
  {
   "cell_type": "code",
   "execution_count": 28,
   "id": "324a383a",
   "metadata": {},
   "outputs": [
    {
     "ename": "KeyError",
     "evalue": "'사과'",
     "output_type": "error",
     "traceback": [
      "\u001b[1;31m---------------------------------------------------------------------------\u001b[0m",
      "\u001b[1;31mKeyError\u001b[0m                                  Traceback (most recent call last)",
      "\u001b[1;32m<ipython-input-28-cf114740bbe3>\u001b[0m in \u001b[0;36m<module>\u001b[1;34m\u001b[0m\n\u001b[1;32m----> 1\u001b[1;33m \u001b[0meng_kor_dict\u001b[0m\u001b[1;33m[\u001b[0m\u001b[1;34m'사과'\u001b[0m\u001b[1;33m]\u001b[0m\u001b[1;33m\u001b[0m\u001b[1;33m\u001b[0m\u001b[0m\n\u001b[0m",
      "\u001b[1;31mKeyError\u001b[0m: '사과'"
     ]
    }
   ],
   "source": [
    "eng_kor_dict['사과'] #영한사전이라서 한국어 작성하면 에러 발생"
   ]
  },
  {
   "cell_type": "code",
   "execution_count": 30,
   "id": "e829240c",
   "metadata": {},
   "outputs": [
    {
     "data": {
      "text/plain": [
       "{1, 2, 3, 4}"
      ]
     },
     "execution_count": 30,
     "metadata": {},
     "output_type": "execute_result"
    }
   ],
   "source": [
    "group1 = set([1,2,3,4,2,1]) #집합\n",
    "group1"
   ]
  },
  {
   "cell_type": "code",
   "execution_count": 31,
   "id": "85213540",
   "metadata": {},
   "outputs": [
    {
     "data": {
      "text/plain": [
       "{1, 2, 3, 5, 6}"
      ]
     },
     "execution_count": 31,
     "metadata": {},
     "output_type": "execute_result"
    }
   ],
   "source": [
    "group2 = set([1,2,3,6,5])\n",
    "group2"
   ]
  },
  {
   "cell_type": "code",
   "execution_count": 33,
   "id": "dd93c8e4",
   "metadata": {},
   "outputs": [
    {
     "data": {
      "text/plain": [
       "{1, 2, 3}"
      ]
     },
     "execution_count": 33,
     "metadata": {},
     "output_type": "execute_result"
    }
   ],
   "source": [
    "group1 & group2 #교집합"
   ]
  },
  {
   "cell_type": "code",
   "execution_count": 36,
   "id": "4b1bd94f",
   "metadata": {},
   "outputs": [
    {
     "data": {
      "text/plain": [
       "{1, 2, 3, 4, 5, 6}"
      ]
     },
     "execution_count": 36,
     "metadata": {},
     "output_type": "execute_result"
    }
   ],
   "source": [
    "group1 | group2 #합집합"
   ]
  },
  {
   "cell_type": "code",
   "execution_count": null,
   "id": "d41d5fca",
   "metadata": {},
   "outputs": [],
   "source": []
  }
 ],
 "metadata": {
  "kernelspec": {
   "display_name": "Python 3",
   "language": "python",
   "name": "python3"
  },
  "language_info": {
   "codemirror_mode": {
    "name": "ipython",
    "version": 3
   },
   "file_extension": ".py",
   "mimetype": "text/x-python",
   "name": "python",
   "nbconvert_exporter": "python",
   "pygments_lexer": "ipython3",
   "version": "3.8.8"
  }
 },
 "nbformat": 4,
 "nbformat_minor": 5
}
