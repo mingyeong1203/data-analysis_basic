{
 "cells": [
  {
   "cell_type": "code",
   "execution_count": 2,
   "id": "fabf4ffa",
   "metadata": {},
   "outputs": [
    {
     "name": "stdout",
     "output_type": "stream",
     "text": [
      "청소년입니다\n"
     ]
    }
   ],
   "source": [
    "age = 17\n",
    "if age >= 20:\n",
    "    print(\"성인입니다\")\n",
    "else:\n",
    "    print(\"청소년입니다\")"
   ]
  },
  {
   "cell_type": "code",
   "execution_count": 9,
   "id": "cef0dbdc",
   "metadata": {},
   "outputs": [
    {
     "name": "stdout",
     "output_type": "stream",
     "text": [
      "아직 정정하시군요\n"
     ]
    }
   ],
   "source": [
    "#조건문\n",
    "\n",
    "age = 85\n",
    "\n",
    "if age > 80:\n",
    "    print(\"아직 정정하시군요\")\n",
    "elif age > 60:\n",
    "    print(\"인생은 60부터!\")\n",
    "else:\n",
    "    print(\"아직 어려요\")"
   ]
  },
  {
   "cell_type": "code",
   "execution_count": 12,
   "id": "657f783c",
   "metadata": {},
   "outputs": [
    {
     "name": "stdout",
     "output_type": "stream",
     "text": [
      "사과\n",
      "배\n",
      "감\n",
      "귤\n"
     ]
    }
   ],
   "source": [
    "#반복문\n",
    "\n",
    "fruits = ['사과', '배', '감', '귤']\n",
    "\n",
    "for fruit in fruits:\n",
    "    print(fruit)"
   ]
  },
  {
   "cell_type": "code",
   "execution_count": 14,
   "id": "5b3ab7db",
   "metadata": {},
   "outputs": [
    {
     "data": {
      "text/plain": [
       "2"
      ]
     },
     "execution_count": 14,
     "metadata": {},
     "output_type": "execute_result"
    }
   ],
   "source": [
    "fruits = ['사과', '배', '감', '귤', '수박', '귤', '딸기', '사과']\n",
    "\n",
    "count = 0\n",
    "\n",
    "for fruit in fruits:\n",
    "    if fruit == '사과':\n",
    "        count = count + 1\n",
    "count"
   ]
  },
  {
   "cell_type": "code",
   "execution_count": 15,
   "id": "aa3d9610",
   "metadata": {},
   "outputs": [],
   "source": [
    "#함수\n",
    "\n",
    "def sum(a,b):\n",
    "    return a+b"
   ]
  },
  {
   "cell_type": "code",
   "execution_count": 16,
   "id": "b93b6891",
   "metadata": {},
   "outputs": [
    {
     "data": {
      "text/plain": [
       "3"
      ]
     },
     "execution_count": 16,
     "metadata": {},
     "output_type": "execute_result"
    }
   ],
   "source": [
    "sum(1,2)"
   ]
  },
  {
   "cell_type": "code",
   "execution_count": 18,
   "id": "dd663e33",
   "metadata": {},
   "outputs": [
    {
     "name": "stdout",
     "output_type": "stream",
     "text": [
      "반갑습니다. 김민경님🌝\n"
     ]
    }
   ],
   "source": [
    "def print_name(name):\n",
    "    print(\"반갑습니다. \" + name + \"님🌝\")\n",
    "    \n",
    "print_name(\"김민경\")"
   ]
  },
  {
   "cell_type": "code",
   "execution_count": null,
   "id": "8a2b5a5a",
   "metadata": {},
   "outputs": [],
   "source": []
  }
 ],
 "metadata": {
  "kernelspec": {
   "display_name": "Python 3",
   "language": "python",
   "name": "python3"
  },
  "language_info": {
   "codemirror_mode": {
    "name": "ipython",
    "version": 3
   },
   "file_extension": ".py",
   "mimetype": "text/x-python",
   "name": "python",
   "nbconvert_exporter": "python",
   "pygments_lexer": "ipython3",
   "version": "3.8.8"
  }
 },
 "nbformat": 4,
 "nbformat_minor": 5
}
